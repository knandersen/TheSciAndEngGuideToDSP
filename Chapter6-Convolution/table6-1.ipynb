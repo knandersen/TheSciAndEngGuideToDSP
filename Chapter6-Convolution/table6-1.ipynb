{
 "cells": [
  {
   "cell_type": "code",
   "execution_count": 1,
   "metadata": {},
   "outputs": [],
   "source": [
    "from matplotlib import pyplot as plt\n",
    "import numpy as np\n",
    "import csv\n",
    "%matplotlib inline"
   ]
  },
  {
   "cell_type": "markdown",
   "metadata": {},
   "source": [
    "# Figure 6-5\n",
    "Just a visual representation of x[n] and h[n] from Figure 6-5. y[n] from Figure 6-5 will be visible after the execution of Table 6-1 below"
   ]
  },
  {
   "cell_type": "code",
   "execution_count": 2,
   "metadata": {},
   "outputs": [
    {
     "data": {
      "image/png": "[encoded data removed]",
      "text/plain": [
       "<Figure size 432x288 with 1 Axes>"
      ]
     },
     "metadata": {
      "needs_background": "light"
     },
     "output_type": "display_data"
    }
   ],
   "source": [
    "x = [0,-1,-1.2,2,1.4,1.4,0.6,0,-0.7] # Eyeballing the values from Figure 6-5\n",
    "h = [1,-0.5,-0.3,-0.15]\n",
    "        \n",
    "plt.scatter(list(range(len(x))),x)\n",
    "plt.scatter(list(range(len(h))),h)\n",
    "plt.ylim([-3,3])\n",
    "plt.title('x[n] and h[n] from Figure 6-5')\n",
    "plt.show()"
   ]
  },
  {
   "cell_type": "markdown",
   "metadata": {},
   "source": [
    "# Table 6-1\n",
    "An example implementation of the BASIC-program in Table 6-1. The final scatter plot should look like y[n] in Figure 6-5."
   ]
  },
  {
   "cell_type": "code",
   "execution_count": 3,
   "metadata": {},
   "outputs": [
    {
     "data": {
      "image/png": "[encoded data removed]",
      "text/plain": [
       "<Figure size 432x288 with 1 Axes>"
      ]
     },
     "metadata": {
      "needs_background": "light"
     },
     "output_type": "display_data"
    }
   ],
   "source": [
    "def zero_y():\n",
    "    global y\n",
    "    y = [0] * (len(x) + len(h) - 1)\n",
    "\n",
    "zero_y()\n",
    "\n",
    "for i in range(len(x)):\n",
    "    for j in range(len(h)):\n",
    "        y[i+j] = y[i+j] + x[i]*h[j]\n",
    "    # Figure 6-6: Uncomment these lines and change the i in the if-condition to see the individual contribution\n",
    "    #if i == 4:\n",
    "        #plt.scatter(list(range(len(y))),y)\n",
    "    #zero_y()\n",
    "\n",
    "plt.scatter(list(range(len(y))),y)\n",
    "plt.legend(list(range(len(h)*len(x))))\n",
    "plt.ylim([-3,3])\n",
    "plt.show()"
   ]
  },
  {
   "cell_type": "code",
   "execution_count": null,
   "metadata": {},
   "outputs": [],
   "source": []
  }
 ],
 "metadata": {
  "kernelspec": {
   "display_name": "Python 3",
   "language": "python",
   "name": "python3"
  },
  "language_info": {
   "codemirror_mode": {
    "name": "ipython",
    "version": 3
   },
   "file_extension": ".py",
   "mimetype": "text/x-python",
   "name": "python",
   "nbconvert_exporter": "python",
   "pygments_lexer": "ipython3",
   "version": "3.7.6"
  }
 },
 "nbformat": 4,
 "nbformat_minor": 4
}
